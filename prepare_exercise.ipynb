{
 "cells": [
  {
   "cell_type": "code",
   "execution_count": 58,
   "id": "f03354a5",
   "metadata": {},
   "outputs": [],
   "source": [
    "import pandas as pd\n",
    "import unicodedata\n",
    "import re\n",
    "import nltk\n",
    "import acquire as a\n",
    "import os\n",
    "\n",
    "from requests import get\n",
    "from bs4 import BeautifulSoup\n",
    "\n",
    "from nltk.tokenize.toktok import ToktokTokenizer\n",
    "from nltk.corpus import stopwords"
   ]
  },
  {
   "cell_type": "markdown",
   "id": "a3f43170",
   "metadata": {},
   "source": [
    "# The end result of this exercise should be a file named prepare.py that defines the requested functions."
   ]
  },
  {
   "cell_type": "markdown",
   "id": "9a52bbd1",
   "metadata": {},
   "source": [
    "# In this exercise we will be defining some functions to prepare textual data. These functions should apply equally well to both the codeup blog articles and the news articles that were previously acquired."
   ]
  },
  {
   "cell_type": "markdown",
   "id": "c7cd83b9",
   "metadata": {},
   "source": [
    "# 1. Define a function named basic_clean. It should take in a string and apply some basic text cleaning to it:\n",
    "\n",
    "* Lowercase everything\n",
    "* Normalize unicode characters\n",
    "* Replace anything that is not a letter, number, whitespace or a single quote."
   ]
  },
  {
   "cell_type": "code",
   "execution_count": 2,
   "id": "07f2a133",
   "metadata": {
    "scrolled": true
   },
   "outputs": [
    {
     "data": {
      "text/plain": [
       "'May is traditionally known as Asian American and Pacific Islander (AAPI) Heritage Month. This month we celebrate the history and contributions made possible by our AAPI friends, family, and community. We also examine our level of support and seek opportunities to better understand the AAPI community.\\n\\nIn an effort to address real concerns and experiences, we sat down with Arbeena Thapa, one of Codeup’s Financial Aid and Enrollment Managers.\\nArbeena identifies as Nepali American and Desi. Arbeena’s parents immigrated to Texas in 1988 for better employment and educational opportunities. Arbeena’s older sister was five when they made the move to the US. Arbeena was born later, becoming the first in her family to be a US citizen.\\nAt Codeup we take our efforts at inclusivity very seriously. After speaking with Arbeena, we were taught that the term AAPI excludes Desi-American individuals. Hence, we will now use the term Asian Pacific Islander Desi American (APIDA).\\nHere is how the rest of our conversation with Arbeena went!\\nHow do you celebrate or connect with your heritage and cultural traditions?\\n“I celebrate Nepal’s version of Christmas or Dashain. This is a nine-day celebration also known as Dussehra. I grew up as Hindu and I identify as Hindu, this is a very large part of my heritage. “\\n“Other ways I connect with my culture include sharing food! Momos are South Asian Dumplings and they’re my favorite to make and share.”\\n“On my Asian American side, I am an advocate of immigrant justice and erasure within APIDA social or political movements. I participate in events to embrace my identity such as immigrant justice advocacy because I come from a mixed-status family. I’ve always been in a community with undocumented Asian immigrants. .”\\nWhat are some of the challenges you have faced as an APIDA individual, personally or professionally?\\n“I often struggle with being gendered as compliant or a pushover. Professionally, I am often stereotyped as meek, so I’ve been overlooked for leadership roles. We are seen as perpetually foreign; people tend to other us in that way, yet put us on a pedestal for what a model minority looks like. This has made me hesitant to share my heritage in the past because these assumptions get mapped onto me. ”\\nCan you describe some common barriers of entry that APIDA individuals, specifically women may face when trying to enter or advance in the workplace?\\n“Being overlooked for leadership. In the past, I have not been viewed as a leader. People sometimes have preconceived stereotypes of Asian women not being able to be bold, or being vocal can be mistaken for being too emotional. “\\nHow do you believe microaggressions impact APIDA individuals in the workplace? Can you provide examples of such microaggressions?\\n“Erasure is big. To me, only saying ‘Merry Christmas’ isn’t inclusive to other religions. People are often resistant to saying ‘Happy Holidays,’ but saying Merry Christmas excludes, and does not appreciate my heritage. “\\n“Often microaggressions are not micro at all. They typically are not aggressive racialized violence, but the term ‘micro’ minimizes impact.”\\n“Some that I’ve heard are ‘What kind of Asian are you?’ or ‘Where are you from?’ This automatically makes me the ‘other’ and not seen as American. Even within the APIDA community, South Asians are overlooked as “Asian”.”\\nHow important is representation, specifically APIDA representation, in organizational leadership positions?\\n“I want to say that it is important to have someone who looks like you in leadership roles, and it is, but those leaders may not share the same beliefs as you. Certain privileges such as wealth, resources, or lack of interaction with lower-socioeconomic-status Asian Americans may cause a difference in community politics. I do not think the bamboo ceiling is acceptable, but the company you work for plays a big part in your politics and belief alignment.”\\nHow do you feel about code-switching, and have you ever felt it necessary to code-switch?\\n“I like sharing South Asian terms or connecting with others that have similar heritage and culture. A workplace that is welcoming to going into this sort of breakout is refreshing and makes space for us. However, having to code-switch could also mean a workplace that is not conducive and welcoming of other cultures. “\\nFinally, in your opinion, what long-term strategies can create lasting change in the workplace and ensure support, equality, and inclusion for APIDA individuals?\\n“Prior to a career in financial aid, I did a lot of research related to the post-9/11 immigration of the South Asian diaspora. This background made me heavily rely on grassroots organizing. Hire the people that want to innovate, hire the changemakers, hire the button-pushers. Reduce reliance on whiteness as change. This will become natural for the organization and become organizational change. Change comes from us on the ground.”\\nA huge thank you to Arbeena Thapa for sharing her experiences, and being vulnerable with us. Your words were inspiring and the opportunity to understand your perspective more has been valuable. We hope we can become better support for the APIDA community as we learn and grow on our journey of cultivating inclusive growth.'"
      ]
     },
     "execution_count": 2,
     "metadata": {},
     "output_type": "execute_result"
    }
   ],
   "source": [
    "string = a.get_blog_articles_data()\n",
    "string = string.content[0]\n",
    "string"
   ]
  },
  {
   "cell_type": "code",
   "execution_count": 3,
   "id": "cc970883",
   "metadata": {},
   "outputs": [],
   "source": [
    "def basic_clean(text):\n",
    "    \n",
    "    text = text.lower()\n",
    "    \n",
    "    text = unicodedata.normalize('NFKD', text)\\\n",
    "    .encode('ascii', 'ignore')\\\n",
    "    .decode('utf-8', 'ignore')\n",
    "    \n",
    "    text = re.sub(r\"[^a-z0-9'\\s]\", '', text)\n",
    "    \n",
    "    return text"
   ]
  },
  {
   "cell_type": "code",
   "execution_count": 4,
   "id": "3ae556b3",
   "metadata": {
    "scrolled": true
   },
   "outputs": [
    {
     "data": {
      "text/plain": [
       "'may is traditionally known as asian american and pacific islander aapi heritage month this month we celebrate the history and contributions made possible by our aapi friends family and community we also examine our level of support and seek opportunities to better understand the aapi community\\n\\nin an effort to address real concerns and experiences we sat down with arbeena thapa one of codeups financial aid and enrollment managers\\narbeena identifies as nepali american and desi arbeenas parents immigrated to texas in 1988 for better employment and educational opportunities arbeenas older sister was five when they made the move to the us arbeena was born later becoming the first in her family to be a us citizen\\nat codeup we take our efforts at inclusivity very seriously after speaking with arbeena we were taught that the term aapi excludes desiamerican individuals hence we will now use the term asian pacific islander desi american apida\\nhere is how the rest of our conversation with arbeena went\\nhow do you celebrate or connect with your heritage and cultural traditions\\ni celebrate nepals version of christmas or dashain this is a nineday celebration also known as dussehra i grew up as hindu and i identify as hindu this is a very large part of my heritage \\nother ways i connect with my culture include sharing food momos are south asian dumplings and theyre my favorite to make and share\\non my asian american side i am an advocate of immigrant justice and erasure within apida social or political movements i participate in events to embrace my identity such as immigrant justice advocacy because i come from a mixedstatus family ive always been in a community with undocumented asian immigrants \\nwhat are some of the challenges you have faced as an apida individual personally or professionally\\ni often struggle with being gendered as compliant or a pushover professionally i am often stereotyped as meek so ive been overlooked for leadership roles we are seen as perpetually foreign people tend to other us in that way yet put us on a pedestal for what a model minority looks like this has made me hesitant to share my heritage in the past because these assumptions get mapped onto me \\ncan you describe some common barriers of entry that apida individuals specifically women may face when trying to enter or advance in the workplace\\nbeing overlooked for leadership in the past i have not been viewed as a leader people sometimes have preconceived stereotypes of asian women not being able to be bold or being vocal can be mistaken for being too emotional \\nhow do you believe microaggressions impact apida individuals in the workplace can you provide examples of such microaggressions\\nerasure is big to me only saying merry christmas isnt inclusive to other religions people are often resistant to saying happy holidays but saying merry christmas excludes and does not appreciate my heritage \\noften microaggressions are not micro at all they typically are not aggressive racialized violence but the term micro minimizes impact\\nsome that ive heard are what kind of asian are you or where are you from this automatically makes me the other and not seen as american even within the apida community south asians are overlooked as asian\\nhow important is representation specifically apida representation in organizational leadership positions\\ni want to say that it is important to have someone who looks like you in leadership roles and it is but those leaders may not share the same beliefs as you certain privileges such as wealth resources or lack of interaction with lowersocioeconomicstatus asian americans may cause a difference in community politics i do not think the bamboo ceiling is acceptable but the company you work for plays a big part in your politics and belief alignment\\nhow do you feel about codeswitching and have you ever felt it necessary to codeswitch\\ni like sharing south asian terms or connecting with others that have similar heritage and culture a workplace that is welcoming to going into this sort of breakout is refreshing and makes space for us however having to codeswitch could also mean a workplace that is not conducive and welcoming of other cultures \\nfinally in your opinion what longterm strategies can create lasting change in the workplace and ensure support equality and inclusion for apida individuals\\nprior to a career in financial aid i did a lot of research related to the post911 immigration of the south asian diaspora this background made me heavily rely on grassroots organizing hire the people that want to innovate hire the changemakers hire the buttonpushers reduce reliance on whiteness as change this will become natural for the organization and become organizational change change comes from us on the ground\\na huge thank you to arbeena thapa for sharing her experiences and being vulnerable with us your words were inspiring and the opportunity to understand your perspective more has been valuable we hope we can become better support for the apida community as we learn and grow on our journey of cultivating inclusive growth'"
      ]
     },
     "execution_count": 4,
     "metadata": {},
     "output_type": "execute_result"
    }
   ],
   "source": [
    "string = basic_clean(string)\n",
    "string"
   ]
  },
  {
   "cell_type": "markdown",
   "id": "7dbae88a",
   "metadata": {},
   "source": [
    "# 2. Define a function named tokenize. It should take in a string and tokenize all the words in the string."
   ]
  },
  {
   "cell_type": "code",
   "execution_count": 5,
   "id": "31f81df5",
   "metadata": {},
   "outputs": [],
   "source": [
    "def tokenize(text):\n",
    "    \n",
    "    tokenizer = nltk.tokenize.ToktokTokenizer()\n",
    "\n",
    "    text = tokenizer.tokenize(text, return_str=True)\n",
    "    \n",
    "    return text\n"
   ]
  },
  {
   "cell_type": "code",
   "execution_count": 6,
   "id": "b71a6ce9",
   "metadata": {
    "scrolled": true
   },
   "outputs": [
    {
     "data": {
      "text/plain": [
       "'may is traditionally known as asian american and pacific islander aapi heritage month this month we celebrate the history and contributions made possible by our aapi friends family and community we also examine our level of support and seek opportunities to better understand the aapi community\\n\\nin an effort to address real concerns and experiences we sat down with arbeena thapa one of codeups financial aid and enrollment managers\\narbeena identifies as nepali american and desi arbeenas parents immigrated to texas in 1988 for better employment and educational opportunities arbeenas older sister was five when they made the move to the us arbeena was born later becoming the first in her family to be a us citizen\\nat codeup we take our efforts at inclusivity very seriously after speaking with arbeena we were taught that the term aapi excludes desiamerican individuals hence we will now use the term asian pacific islander desi american apida\\nhere is how the rest of our conversation with arbeena went\\nhow do you celebrate or connect with your heritage and cultural traditions\\ni celebrate nepals version of christmas or dashain this is a nineday celebration also known as dussehra i grew up as hindu and i identify as hindu this is a very large part of my heritage \\nother ways i connect with my culture include sharing food momos are south asian dumplings and theyre my favorite to make and share\\non my asian american side i am an advocate of immigrant justice and erasure within apida social or political movements i participate in events to embrace my identity such as immigrant justice advocacy because i come from a mixedstatus family ive always been in a community with undocumented asian immigrants \\nwhat are some of the challenges you have faced as an apida individual personally or professionally\\ni often struggle with being gendered as compliant or a pushover professionally i am often stereotyped as meek so ive been overlooked for leadership roles we are seen as perpetually foreign people tend to other us in that way yet put us on a pedestal for what a model minority looks like this has made me hesitant to share my heritage in the past because these assumptions get mapped onto me \\ncan you describe some common barriers of entry that apida individuals specifically women may face when trying to enter or advance in the workplace\\nbeing overlooked for leadership in the past i have not been viewed as a leader people sometimes have preconceived stereotypes of asian women not being able to be bold or being vocal can be mistaken for being too emotional \\nhow do you believe microaggressions impact apida individuals in the workplace can you provide examples of such microaggressions\\nerasure is big to me only saying merry christmas isnt inclusive to other religions people are often resistant to saying happy holidays but saying merry christmas excludes and does not appreciate my heritage \\noften microaggressions are not micro at all they typically are not aggressive racialized violence but the term micro minimizes impact\\nsome that ive heard are what kind of asian are you or where are you from this automatically makes me the other and not seen as american even within the apida community south asians are overlooked as asian\\nhow important is representation specifically apida representation in organizational leadership positions\\ni want to say that it is important to have someone who looks like you in leadership roles and it is but those leaders may not share the same beliefs as you certain privileges such as wealth resources or lack of interaction with lowersocioeconomicstatus asian americans may cause a difference in community politics i do not think the bamboo ceiling is acceptable but the company you work for plays a big part in your politics and belief alignment\\nhow do you feel about codeswitching and have you ever felt it necessary to codeswitch\\ni like sharing south asian terms or connecting with others that have similar heritage and culture a workplace that is welcoming to going into this sort of breakout is refreshing and makes space for us however having to codeswitch could also mean a workplace that is not conducive and welcoming of other cultures \\nfinally in your opinion what longterm strategies can create lasting change in the workplace and ensure support equality and inclusion for apida individuals\\nprior to a career in financial aid i did a lot of research related to the post911 immigration of the south asian diaspora this background made me heavily rely on grassroots organizing hire the people that want to innovate hire the changemakers hire the buttonpushers reduce reliance on whiteness as change this will become natural for the organization and become organizational change change comes from us on the ground\\na huge thank you to arbeena thapa for sharing her experiences and being vulnerable with us your words were inspiring and the opportunity to understand your perspective more has been valuable we hope we can become better support for the apida community as we learn and grow on our journey of cultivating inclusive growth'"
      ]
     },
     "execution_count": 6,
     "metadata": {},
     "output_type": "execute_result"
    }
   ],
   "source": [
    "string = tokenize(string)\n",
    "string"
   ]
  },
  {
   "cell_type": "markdown",
   "id": "7c5408c6",
   "metadata": {},
   "source": [
    "# 3. Define a function named stem. It should accept some text and return the text after applying stemming to all the words."
   ]
  },
  {
   "cell_type": "code",
   "execution_count": 7,
   "id": "8cb94560",
   "metadata": {},
   "outputs": [],
   "source": [
    "def stem(text):\n",
    "    \n",
    "    ps = nltk.porter.PorterStemmer()\n",
    "    \n",
    "    stems = [ps.stem(word) for word in text.split()]\n",
    "    \n",
    "    text_stemmed = ' '.join(stems)\n",
    "    \n",
    "    return text_stemmed\n"
   ]
  },
  {
   "cell_type": "code",
   "execution_count": 8,
   "id": "922ae3fb",
   "metadata": {
    "scrolled": true
   },
   "outputs": [
    {
     "data": {
      "text/plain": [
       "'may is tradit known as asian american and pacif island aapi heritag month thi month we celebr the histori and contribut made possibl by our aapi friend famili and commun we also examin our level of support and seek opportun to better understand the aapi commun in an effort to address real concern and experi we sat down with arbeena thapa one of codeup financi aid and enrol manag arbeena identifi as nepali american and desi arbeena parent immigr to texa in 1988 for better employ and educ opportun arbeena older sister wa five when they made the move to the us arbeena wa born later becom the first in her famili to be a us citizen at codeup we take our effort at inclus veri serious after speak with arbeena we were taught that the term aapi exclud desiamerican individu henc we will now use the term asian pacif island desi american apida here is how the rest of our convers with arbeena went how do you celebr or connect with your heritag and cultur tradit i celebr nepal version of christma or dashain thi is a nineday celebr also known as dussehra i grew up as hindu and i identifi as hindu thi is a veri larg part of my heritag other way i connect with my cultur includ share food momo are south asian dumpl and theyr my favorit to make and share on my asian american side i am an advoc of immigr justic and erasur within apida social or polit movement i particip in event to embrac my ident such as immigr justic advocaci becaus i come from a mixedstatu famili ive alway been in a commun with undocu asian immigr what are some of the challeng you have face as an apida individu person or profession i often struggl with be gender as compliant or a pushov profession i am often stereotyp as meek so ive been overlook for leadership role we are seen as perpetu foreign peopl tend to other us in that way yet put us on a pedest for what a model minor look like thi ha made me hesit to share my heritag in the past becaus these assumpt get map onto me can you describ some common barrier of entri that apida individu specif women may face when tri to enter or advanc in the workplac be overlook for leadership in the past i have not been view as a leader peopl sometim have preconceiv stereotyp of asian women not be abl to be bold or be vocal can be mistaken for be too emot how do you believ microaggress impact apida individu in the workplac can you provid exampl of such microaggress erasur is big to me onli say merri christma isnt inclus to other religion peopl are often resist to say happi holiday but say merri christma exclud and doe not appreci my heritag often microaggress are not micro at all they typic are not aggress racial violenc but the term micro minim impact some that ive heard are what kind of asian are you or where are you from thi automat make me the other and not seen as american even within the apida commun south asian are overlook as asian how import is represent specif apida represent in organiz leadership posit i want to say that it is import to have someon who look like you in leadership role and it is but those leader may not share the same belief as you certain privileg such as wealth resourc or lack of interact with lowersocioeconomicstatu asian american may caus a differ in commun polit i do not think the bamboo ceil is accept but the compani you work for play a big part in your polit and belief align how do you feel about codeswitch and have you ever felt it necessari to codeswitch i like share south asian term or connect with other that have similar heritag and cultur a workplac that is welcom to go into thi sort of breakout is refresh and make space for us howev have to codeswitch could also mean a workplac that is not conduc and welcom of other cultur final in your opinion what longterm strategi can creat last chang in the workplac and ensur support equal and inclus for apida individu prior to a career in financi aid i did a lot of research relat to the post911 immigr of the south asian diaspora thi background made me heavili reli on grassroot organ hire the peopl that want to innov hire the changemak hire the buttonpush reduc relianc on white as chang thi will becom natur for the organ and becom organiz chang chang come from us on the ground a huge thank you to arbeena thapa for share her experi and be vulner with us your word were inspir and the opportun to understand your perspect more ha been valuabl we hope we can becom better support for the apida commun as we learn and grow on our journey of cultiv inclus growth'"
      ]
     },
     "execution_count": 8,
     "metadata": {},
     "output_type": "execute_result"
    }
   ],
   "source": [
    "stem(string)"
   ]
  },
  {
   "cell_type": "markdown",
   "id": "0c40a9ca",
   "metadata": {},
   "source": [
    "# 4. Define a function named lemmatize. It should accept some text and return the text after applying lemmatization to each word."
   ]
  },
  {
   "cell_type": "code",
   "execution_count": 9,
   "id": "4a7301e9",
   "metadata": {},
   "outputs": [],
   "source": [
    "def lemmatize(text):\n",
    "    \n",
    "    wnl = nltk.stem.WordNetLemmatizer()\n",
    "    \n",
    "    lemmas = [wnl.lemmatize(word) for word in text.split()]\n",
    "    \n",
    "    text_lemmatized = ' '.join(lemmas)\n",
    "\n",
    "    return text_lemmatized"
   ]
  },
  {
   "cell_type": "code",
   "execution_count": 10,
   "id": "5cc28a34",
   "metadata": {
    "scrolled": true
   },
   "outputs": [
    {
     "data": {
      "text/plain": [
       "'may is traditionally known a asian american and pacific islander aapi heritage month this month we celebrate the history and contribution made possible by our aapi friend family and community we also examine our level of support and seek opportunity to better understand the aapi community in an effort to address real concern and experience we sat down with arbeena thapa one of codeups financial aid and enrollment manager arbeena identifies a nepali american and desi arbeenas parent immigrated to texas in 1988 for better employment and educational opportunity arbeenas older sister wa five when they made the move to the u arbeena wa born later becoming the first in her family to be a u citizen at codeup we take our effort at inclusivity very seriously after speaking with arbeena we were taught that the term aapi excludes desiamerican individual hence we will now use the term asian pacific islander desi american apida here is how the rest of our conversation with arbeena went how do you celebrate or connect with your heritage and cultural tradition i celebrate nepal version of christmas or dashain this is a nineday celebration also known a dussehra i grew up a hindu and i identify a hindu this is a very large part of my heritage other way i connect with my culture include sharing food momos are south asian dumpling and theyre my favorite to make and share on my asian american side i am an advocate of immigrant justice and erasure within apida social or political movement i participate in event to embrace my identity such a immigrant justice advocacy because i come from a mixedstatus family ive always been in a community with undocumented asian immigrant what are some of the challenge you have faced a an apida individual personally or professionally i often struggle with being gendered a compliant or a pushover professionally i am often stereotyped a meek so ive been overlooked for leadership role we are seen a perpetually foreign people tend to other u in that way yet put u on a pedestal for what a model minority look like this ha made me hesitant to share my heritage in the past because these assumption get mapped onto me can you describe some common barrier of entry that apida individual specifically woman may face when trying to enter or advance in the workplace being overlooked for leadership in the past i have not been viewed a a leader people sometimes have preconceived stereotype of asian woman not being able to be bold or being vocal can be mistaken for being too emotional how do you believe microaggressions impact apida individual in the workplace can you provide example of such microaggressions erasure is big to me only saying merry christmas isnt inclusive to other religion people are often resistant to saying happy holiday but saying merry christmas excludes and doe not appreciate my heritage often microaggressions are not micro at all they typically are not aggressive racialized violence but the term micro minimizes impact some that ive heard are what kind of asian are you or where are you from this automatically make me the other and not seen a american even within the apida community south asian are overlooked a asian how important is representation specifically apida representation in organizational leadership position i want to say that it is important to have someone who look like you in leadership role and it is but those leader may not share the same belief a you certain privilege such a wealth resource or lack of interaction with lowersocioeconomicstatus asian american may cause a difference in community politics i do not think the bamboo ceiling is acceptable but the company you work for play a big part in your politics and belief alignment how do you feel about codeswitching and have you ever felt it necessary to codeswitch i like sharing south asian term or connecting with others that have similar heritage and culture a workplace that is welcoming to going into this sort of breakout is refreshing and make space for u however having to codeswitch could also mean a workplace that is not conducive and welcoming of other culture finally in your opinion what longterm strategy can create lasting change in the workplace and ensure support equality and inclusion for apida individual prior to a career in financial aid i did a lot of research related to the post911 immigration of the south asian diaspora this background made me heavily rely on grassroots organizing hire the people that want to innovate hire the changemakers hire the buttonpushers reduce reliance on whiteness a change this will become natural for the organization and become organizational change change come from u on the ground a huge thank you to arbeena thapa for sharing her experience and being vulnerable with u your word were inspiring and the opportunity to understand your perspective more ha been valuable we hope we can become better support for the apida community a we learn and grow on our journey of cultivating inclusive growth'"
      ]
     },
     "execution_count": 10,
     "metadata": {},
     "output_type": "execute_result"
    }
   ],
   "source": [
    "lemmatize(string)"
   ]
  },
  {
   "cell_type": "markdown",
   "id": "bd623068",
   "metadata": {},
   "source": [
    "# 5. Define a function named remove_stopwords. It should accept some text and return the text after removing all the stopwords.\n",
    "\n",
    "# This function should define two optional parameters, extra_words and exclude_words. These parameters should define any additional stop words to include, and any words that we don't want to remove."
   ]
  },
  {
   "cell_type": "code",
   "execution_count": 39,
   "id": "74c283de",
   "metadata": {},
   "outputs": [
    {
     "data": {
      "text/plain": [
       "['i',\n",
       " 'me',\n",
       " 'my',\n",
       " 'myself',\n",
       " 'we',\n",
       " 'our',\n",
       " 'ours',\n",
       " 'ourselves',\n",
       " 'you',\n",
       " \"you're\",\n",
       " \"you've\",\n",
       " \"you'll\",\n",
       " \"you'd\",\n",
       " 'your',\n",
       " 'yours',\n",
       " 'yourself',\n",
       " 'yourselves',\n",
       " 'he',\n",
       " 'him',\n",
       " 'his',\n",
       " 'himself',\n",
       " 'she',\n",
       " \"she's\",\n",
       " 'her',\n",
       " 'hers',\n",
       " 'herself',\n",
       " 'it',\n",
       " \"it's\",\n",
       " 'its',\n",
       " 'itself',\n",
       " 'they',\n",
       " 'them',\n",
       " 'their',\n",
       " 'theirs',\n",
       " 'themselves',\n",
       " 'what',\n",
       " 'which',\n",
       " 'who',\n",
       " 'whom',\n",
       " 'this',\n",
       " 'that',\n",
       " \"that'll\",\n",
       " 'these',\n",
       " 'those',\n",
       " 'am',\n",
       " 'is',\n",
       " 'are',\n",
       " 'was',\n",
       " 'were',\n",
       " 'be',\n",
       " 'been',\n",
       " 'being',\n",
       " 'have',\n",
       " 'has',\n",
       " 'had',\n",
       " 'having',\n",
       " 'do',\n",
       " 'does',\n",
       " 'did',\n",
       " 'doing',\n",
       " 'a',\n",
       " 'an',\n",
       " 'the',\n",
       " 'and',\n",
       " 'but',\n",
       " 'if',\n",
       " 'or',\n",
       " 'because',\n",
       " 'as',\n",
       " 'until',\n",
       " 'while',\n",
       " 'of',\n",
       " 'at',\n",
       " 'by',\n",
       " 'for',\n",
       " 'with',\n",
       " 'about',\n",
       " 'against',\n",
       " 'between',\n",
       " 'into',\n",
       " 'through',\n",
       " 'during',\n",
       " 'before',\n",
       " 'after',\n",
       " 'above',\n",
       " 'below',\n",
       " 'to',\n",
       " 'from',\n",
       " 'up',\n",
       " 'down',\n",
       " 'in',\n",
       " 'out',\n",
       " 'on',\n",
       " 'off',\n",
       " 'over',\n",
       " 'under',\n",
       " 'again',\n",
       " 'further',\n",
       " 'then',\n",
       " 'once',\n",
       " 'here',\n",
       " 'there',\n",
       " 'when',\n",
       " 'where',\n",
       " 'why',\n",
       " 'how',\n",
       " 'all',\n",
       " 'any',\n",
       " 'both',\n",
       " 'each',\n",
       " 'few',\n",
       " 'more',\n",
       " 'most',\n",
       " 'other',\n",
       " 'some',\n",
       " 'such',\n",
       " 'no',\n",
       " 'nor',\n",
       " 'not',\n",
       " 'only',\n",
       " 'own',\n",
       " 'same',\n",
       " 'so',\n",
       " 'than',\n",
       " 'too',\n",
       " 'very',\n",
       " 's',\n",
       " 't',\n",
       " 'can',\n",
       " 'will',\n",
       " 'just',\n",
       " 'don',\n",
       " \"don't\",\n",
       " 'should',\n",
       " \"should've\",\n",
       " 'now',\n",
       " 'd',\n",
       " 'll',\n",
       " 'm',\n",
       " 'o',\n",
       " 're',\n",
       " 've',\n",
       " 'y',\n",
       " 'ain',\n",
       " 'aren',\n",
       " \"aren't\",\n",
       " 'couldn',\n",
       " \"couldn't\",\n",
       " 'didn',\n",
       " \"didn't\",\n",
       " 'doesn',\n",
       " \"doesn't\",\n",
       " 'hadn',\n",
       " \"hadn't\",\n",
       " 'hasn',\n",
       " \"hasn't\",\n",
       " 'haven',\n",
       " \"haven't\",\n",
       " 'isn',\n",
       " \"isn't\",\n",
       " 'ma',\n",
       " 'mightn',\n",
       " \"mightn't\",\n",
       " 'mustn',\n",
       " \"mustn't\",\n",
       " 'needn',\n",
       " \"needn't\",\n",
       " 'shan',\n",
       " \"shan't\",\n",
       " 'shouldn',\n",
       " \"shouldn't\",\n",
       " 'wasn',\n",
       " \"wasn't\",\n",
       " 'weren',\n",
       " \"weren't\",\n",
       " 'won',\n",
       " \"won't\",\n",
       " 'wouldn',\n",
       " \"wouldn't\"]"
      ]
     },
     "execution_count": 39,
     "metadata": {},
     "output_type": "execute_result"
    }
   ],
   "source": [
    "stopword_list = stopwords.words('english')\n",
    "stopword_list"
   ]
  },
  {
   "cell_type": "code",
   "execution_count": 40,
   "id": "7beadd4d",
   "metadata": {},
   "outputs": [
    {
     "data": {
      "text/plain": [
       "['i',\n",
       " 'me',\n",
       " 'my',\n",
       " 'myself',\n",
       " 'we',\n",
       " 'our',\n",
       " 'ours',\n",
       " 'ourselves',\n",
       " 'you',\n",
       " \"you're\",\n",
       " \"you've\",\n",
       " \"you'll\",\n",
       " \"you'd\",\n",
       " 'your',\n",
       " 'yours',\n",
       " 'yourself',\n",
       " 'yourselves',\n",
       " 'he',\n",
       " 'him',\n",
       " 'his',\n",
       " 'himself',\n",
       " 'she',\n",
       " \"she's\",\n",
       " 'her',\n",
       " 'hers',\n",
       " 'herself',\n",
       " 'it',\n",
       " \"it's\",\n",
       " 'its',\n",
       " 'itself',\n",
       " 'they',\n",
       " 'them',\n",
       " 'their',\n",
       " 'theirs',\n",
       " 'themselves',\n",
       " 'what',\n",
       " 'which',\n",
       " 'who',\n",
       " 'whom',\n",
       " 'this',\n",
       " 'that',\n",
       " \"that'll\",\n",
       " 'these',\n",
       " 'those',\n",
       " 'am',\n",
       " 'is',\n",
       " 'are',\n",
       " 'was',\n",
       " 'were',\n",
       " 'be',\n",
       " 'been',\n",
       " 'being',\n",
       " 'have',\n",
       " 'has',\n",
       " 'had',\n",
       " 'having',\n",
       " 'do',\n",
       " 'does',\n",
       " 'did',\n",
       " 'doing',\n",
       " 'a',\n",
       " 'an',\n",
       " 'the',\n",
       " 'and',\n",
       " 'but',\n",
       " 'if',\n",
       " 'or',\n",
       " 'because',\n",
       " 'as',\n",
       " 'until',\n",
       " 'while',\n",
       " 'of',\n",
       " 'at',\n",
       " 'by',\n",
       " 'for',\n",
       " 'with',\n",
       " 'about',\n",
       " 'against',\n",
       " 'between',\n",
       " 'into',\n",
       " 'through',\n",
       " 'during',\n",
       " 'before',\n",
       " 'after',\n",
       " 'above',\n",
       " 'below',\n",
       " 'to',\n",
       " 'from',\n",
       " 'up',\n",
       " 'down',\n",
       " 'in',\n",
       " 'out',\n",
       " 'on',\n",
       " 'off',\n",
       " 'over',\n",
       " 'under',\n",
       " 'again',\n",
       " 'further',\n",
       " 'then',\n",
       " 'once',\n",
       " 'here',\n",
       " 'there',\n",
       " 'when',\n",
       " 'where',\n",
       " 'why',\n",
       " 'how',\n",
       " 'all',\n",
       " 'any',\n",
       " 'both',\n",
       " 'each',\n",
       " 'few',\n",
       " 'more',\n",
       " 'most',\n",
       " 'other',\n",
       " 'some',\n",
       " 'such',\n",
       " 'no',\n",
       " 'nor',\n",
       " 'only',\n",
       " 'own',\n",
       " 'same',\n",
       " 'so',\n",
       " 'than',\n",
       " 'too',\n",
       " 'very',\n",
       " 's',\n",
       " 't',\n",
       " 'can',\n",
       " 'will',\n",
       " 'just',\n",
       " 'don',\n",
       " \"don't\",\n",
       " 'should',\n",
       " \"should've\",\n",
       " 'now',\n",
       " 'd',\n",
       " 'll',\n",
       " 'm',\n",
       " 'o',\n",
       " 're',\n",
       " 've',\n",
       " 'y',\n",
       " 'ain',\n",
       " 'aren',\n",
       " \"aren't\",\n",
       " 'couldn',\n",
       " \"couldn't\",\n",
       " 'didn',\n",
       " \"didn't\",\n",
       " 'doesn',\n",
       " \"doesn't\",\n",
       " 'hadn',\n",
       " \"hadn't\",\n",
       " 'hasn',\n",
       " \"hasn't\",\n",
       " 'haven',\n",
       " \"haven't\",\n",
       " 'isn',\n",
       " \"isn't\",\n",
       " 'ma',\n",
       " 'mightn',\n",
       " \"mightn't\",\n",
       " 'mustn',\n",
       " \"mustn't\",\n",
       " 'needn',\n",
       " \"needn't\",\n",
       " 'shan',\n",
       " \"shan't\",\n",
       " 'shouldn',\n",
       " \"shouldn't\",\n",
       " 'wasn',\n",
       " \"wasn't\",\n",
       " 'weren',\n",
       " \"weren't\",\n",
       " 'won',\n",
       " \"won't\",\n",
       " 'wouldn',\n",
       " \"wouldn't\"]"
      ]
     },
     "execution_count": 40,
     "metadata": {},
     "output_type": "execute_result"
    }
   ],
   "source": [
    "stopword_list.remove('not')\n",
    "stopword_list"
   ]
  },
  {
   "cell_type": "code",
   "execution_count": 42,
   "id": "c8782174",
   "metadata": {},
   "outputs": [
    {
     "data": {
      "text/plain": [
       "['i',\n",
       " 'me',\n",
       " 'my',\n",
       " 'myself',\n",
       " 'we',\n",
       " 'our',\n",
       " 'ours',\n",
       " 'ourselves',\n",
       " 'you',\n",
       " \"you're\",\n",
       " \"you've\",\n",
       " \"you'll\",\n",
       " \"you'd\",\n",
       " 'your',\n",
       " 'yours',\n",
       " 'yourself',\n",
       " 'yourselves',\n",
       " 'he',\n",
       " 'him',\n",
       " 'his',\n",
       " 'himself',\n",
       " 'she',\n",
       " \"she's\",\n",
       " 'her',\n",
       " 'hers',\n",
       " 'herself',\n",
       " 'it',\n",
       " \"it's\",\n",
       " 'its',\n",
       " 'itself',\n",
       " 'they',\n",
       " 'them',\n",
       " 'their',\n",
       " 'theirs',\n",
       " 'themselves',\n",
       " 'what',\n",
       " 'which',\n",
       " 'who',\n",
       " 'whom',\n",
       " 'this',\n",
       " 'that',\n",
       " \"that'll\",\n",
       " 'these',\n",
       " 'those',\n",
       " 'am',\n",
       " 'is',\n",
       " 'are',\n",
       " 'was',\n",
       " 'were',\n",
       " 'be',\n",
       " 'been',\n",
       " 'being',\n",
       " 'have',\n",
       " 'has',\n",
       " 'had',\n",
       " 'having',\n",
       " 'do',\n",
       " 'does',\n",
       " 'did',\n",
       " 'doing',\n",
       " 'a',\n",
       " 'an',\n",
       " 'the',\n",
       " 'and',\n",
       " 'but',\n",
       " 'if',\n",
       " 'or',\n",
       " 'because',\n",
       " 'as',\n",
       " 'until',\n",
       " 'while',\n",
       " 'of',\n",
       " 'at',\n",
       " 'by',\n",
       " 'for',\n",
       " 'with',\n",
       " 'about',\n",
       " 'against',\n",
       " 'between',\n",
       " 'into',\n",
       " 'through',\n",
       " 'during',\n",
       " 'before',\n",
       " 'after',\n",
       " 'above',\n",
       " 'below',\n",
       " 'to',\n",
       " 'from',\n",
       " 'up',\n",
       " 'down',\n",
       " 'in',\n",
       " 'out',\n",
       " 'on',\n",
       " 'off',\n",
       " 'over',\n",
       " 'under',\n",
       " 'again',\n",
       " 'further',\n",
       " 'then',\n",
       " 'once',\n",
       " 'here',\n",
       " 'there',\n",
       " 'when',\n",
       " 'where',\n",
       " 'why',\n",
       " 'how',\n",
       " 'all',\n",
       " 'any',\n",
       " 'both',\n",
       " 'each',\n",
       " 'few',\n",
       " 'more',\n",
       " 'most',\n",
       " 'other',\n",
       " 'some',\n",
       " 'such',\n",
       " 'no',\n",
       " 'nor',\n",
       " 'only',\n",
       " 'own',\n",
       " 'same',\n",
       " 'so',\n",
       " 'than',\n",
       " 'too',\n",
       " 'very',\n",
       " 's',\n",
       " 't',\n",
       " 'can',\n",
       " 'will',\n",
       " 'just',\n",
       " 'don',\n",
       " \"don't\",\n",
       " 'should',\n",
       " \"should've\",\n",
       " 'now',\n",
       " 'd',\n",
       " 'll',\n",
       " 'm',\n",
       " 'o',\n",
       " 're',\n",
       " 've',\n",
       " 'y',\n",
       " 'ain',\n",
       " 'aren',\n",
       " \"aren't\",\n",
       " 'couldn',\n",
       " \"couldn't\",\n",
       " 'didn',\n",
       " \"didn't\",\n",
       " 'doesn',\n",
       " \"doesn't\",\n",
       " 'hadn',\n",
       " \"hadn't\",\n",
       " 'hasn',\n",
       " \"hasn't\",\n",
       " 'haven',\n",
       " \"haven't\",\n",
       " 'isn',\n",
       " \"isn't\",\n",
       " 'ma',\n",
       " 'mightn',\n",
       " \"mightn't\",\n",
       " 'mustn',\n",
       " \"mustn't\",\n",
       " 'needn',\n",
       " \"needn't\",\n",
       " 'shan',\n",
       " \"shan't\",\n",
       " 'shouldn',\n",
       " \"shouldn't\",\n",
       " 'wasn',\n",
       " \"wasn't\",\n",
       " 'weren',\n",
       " \"weren't\",\n",
       " 'won',\n",
       " \"won't\",\n",
       " 'wouldn',\n",
       " \"wouldn't\",\n",
       " ('marcelino', 'salazar'),\n",
       " 'marcelino',\n",
       " 'salazar']"
      ]
     },
     "execution_count": 42,
     "metadata": {},
     "output_type": "execute_result"
    }
   ],
   "source": [
    "lis= 'marcelino', 'salazar'\n",
    "for w in lis:\n",
    "    \n",
    "    stopword_list.append(w)\n",
    "stopword_list"
   ]
  },
  {
   "cell_type": "code",
   "execution_count": 43,
   "id": "e8ab28a8",
   "metadata": {},
   "outputs": [],
   "source": [
    "def remove_stopwords(text, extra_words = None, exclude_words = None):\n",
    "    \n",
    "    stopword_list = stopwords.words('english')\n",
    "    \n",
    "    if exclude_words is not None:\n",
    "        \n",
    "        for w in exclude_words:\n",
    "        \n",
    "            stopword_list.remove(w)\n",
    "    \n",
    "    if extra_words is not None:\n",
    "        \n",
    "        for w in extra_words:\n",
    "        \n",
    "            stopword_list.append(w)\n",
    "    \n",
    "    words = text.split()\n",
    "    \n",
    "    filtered_words = [w for w in words if w not in stopword_list]\n",
    "\n",
    "    print('Removed {} stopwords'.format(len(words) - len(filtered_words)))\n",
    "    print('---')\n",
    "\n",
    "    text_without_stopwords = ' '.join(filtered_words)\n",
    "\n",
    "    return text_without_stopwords"
   ]
  },
  {
   "cell_type": "code",
   "execution_count": 47,
   "id": "a6b8b48e",
   "metadata": {
    "scrolled": true
   },
   "outputs": [
    {
     "name": "stdout",
     "output_type": "stream",
     "text": [
      "Removed 379 stopwords\n",
      "---\n"
     ]
    },
    {
     "data": {
      "text/plain": [
       "'may traditionally known asian american pacific islander aapi heritage month month celebrate history contributions made possible aapi friends family community also examine level support seek opportunities better understand aapi community effort address real concerns experiences sat arbeena thapa one codeups financial aid enrollment managers arbeena identifies nepali american desi arbeenas parents immigrated texas 1988 better employment educational opportunities arbeenas older sister five made move us arbeena born later becoming first family us citizen codeup take efforts inclusivity seriously speaking arbeena taught term aapi excludes desiamerican individuals hence use term asian pacific islander desi american apida rest conversation arbeena went celebrate connect heritage cultural traditions i celebrate nepals version christmas dashain nineday celebration also known dussehra i grew hindu i identify hindu large part heritage ways i connect culture include sharing food momos south asian dumplings theyre favorite make share asian american side i advocate immigrant justice erasure within apida social political movements i participate events embrace identity immigrant justice advocacy i come mixedstatus family ive always community undocumented asian immigrants challenges faced apida individual personally professionally i often struggle gendered compliant pushover professionally i often stereotyped meek ive overlooked leadership roles seen perpetually foreign people tend us way yet put us pedestal model minority looks like made hesitant share heritage past assumptions get mapped onto describe common barriers entry apida individuals specifically women may face trying enter advance workplace overlooked leadership past i viewed leader people sometimes preconceived stereotypes asian women able bold vocal mistaken emotional believe microaggressions impact apida individuals workplace provide examples microaggressions erasure big saying merry christmas isnt inclusive religions people often resistant saying happy holidays saying merry christmas excludes appreciate heritage often microaggressions micro typically aggressive racialized violence term micro minimizes impact ive heard kind asian automatically makes seen american even within apida community south asians overlooked asian important representation specifically apida representation organizational leadership positions i want say it important someone looks like leadership roles it leaders may share beliefs certain privileges wealth resources lack interaction lowersocioeconomicstatus asian americans may cause difference community politics i think bamboo ceiling acceptable company work plays big part politics belief alignment feel codeswitching ever felt it necessary codeswitch i like sharing south asian terms connecting others similar heritage culture workplace welcoming going sort breakout refreshing makes space us however codeswitch could also mean workplace conducive welcoming cultures finally opinion longterm strategies create lasting change workplace ensure support equality inclusion apida individuals prior career financial aid i lot research related post911 immigration south asian diaspora background made heavily rely grassroots organizing hire people want innovate hire changemakers hire buttonpushers reduce reliance whiteness change become natural organization become organizational change change comes us ground huge thank arbeena thapa sharing experiences vulnerable us words inspiring opportunity understand perspective valuable hope become better support apida community learn grow journey cultivating inclusive growth'"
      ]
     },
     "execution_count": 47,
     "metadata": {},
     "output_type": "execute_result"
    }
   ],
   "source": [
    "remove_stopwords(string, exclude_words = ('i', 'it'))"
   ]
  },
  {
   "cell_type": "markdown",
   "id": "5e60aa0f",
   "metadata": {},
   "source": [
    "# 6. Use your data from the acquire to produce a dataframe of the news articles. Name the dataframe news_df."
   ]
  },
  {
   "cell_type": "code",
   "execution_count": null,
   "id": "95f6b88f",
   "metadata": {},
   "outputs": [],
   "source": []
  },
  {
   "cell_type": "markdown",
   "id": "7e97daa8",
   "metadata": {},
   "source": [
    "# 7. Make another dataframe for the Codeup blog posts. Name the dataframe codeup_df."
   ]
  },
  {
   "cell_type": "code",
   "execution_count": 85,
   "id": "70ed4c4b",
   "metadata": {},
   "outputs": [],
   "source": [
    "def codeup_df(refresh=False):\n",
    "    \n",
    "    if not os.path.isfile('codeup_df.csv') or refresh:\n",
    "        \n",
    "        url = 'https://codeup.com/blog/'\n",
    "        headers = {'User-Agent': 'Codeup Data Science'}\n",
    "        response = get(url, headers=headers)\n",
    "\n",
    "        soup = BeautifulSoup(response.content, 'html.parser')\n",
    "\n",
    "        links = [link['href'] for link in soup.select('h2 a[href]')]\n",
    "\n",
    "        articles = []\n",
    "\n",
    "        for url in links:\n",
    "\n",
    "            url_response = get(url, headers=headers)\n",
    "            soup = BeautifulSoup(url_response.text, 'html.parser')\n",
    "\n",
    "            title = soup.find('h1', class_='entry-title').text\n",
    "            content = soup.find('div', class_='entry-content').text.strip()\n",
    "            clean = basic_clean(content)\n",
    "            tokenized = tokenize(clean)\n",
    "            final = remove_stopwords(clean)\n",
    "            stemmed = stem(final)\n",
    "            lemmatized = lemmatize(final)\n",
    "\n",
    "            article_dict = {\n",
    "                'title': title,\n",
    "                'original': content,\n",
    "                'clean': final,\n",
    "                'stemmed': stemmed,\n",
    "                'lemmatized': lemmatized,\n",
    "                \n",
    "            }\n",
    "\n",
    "            articles.append(article_dict)\n",
    "        \n",
    "        blog_article_df = pd.DataFrame(articles)\n",
    "        \n",
    "        blog_article_df.to_csv('codeup_df.csv', index=False)\n",
    "        \n",
    "    return pd.read_csv('codeup_df.csv')"
   ]
  },
  {
   "cell_type": "code",
   "execution_count": 86,
   "id": "ea48b943",
   "metadata": {
    "scrolled": false
   },
   "outputs": [
    {
     "name": "stdout",
     "output_type": "stream",
     "text": [
      "Removed 396 stopwords\n",
      "---\n",
      "Removed 75 stopwords\n",
      "---\n",
      "Removed 167 stopwords\n",
      "---\n",
      "Removed 98 stopwords\n",
      "---\n",
      "Removed 87 stopwords\n",
      "---\n",
      "Removed 70 stopwords\n",
      "---\n"
     ]
    },
    {
     "data": {
      "text/html": [
       "<div>\n",
       "<style scoped>\n",
       "    .dataframe tbody tr th:only-of-type {\n",
       "        vertical-align: middle;\n",
       "    }\n",
       "\n",
       "    .dataframe tbody tr th {\n",
       "        vertical-align: top;\n",
       "    }\n",
       "\n",
       "    .dataframe thead th {\n",
       "        text-align: right;\n",
       "    }\n",
       "</style>\n",
       "<table border=\"1\" class=\"dataframe\">\n",
       "  <thead>\n",
       "    <tr style=\"text-align: right;\">\n",
       "      <th></th>\n",
       "      <th>title</th>\n",
       "      <th>original</th>\n",
       "      <th>clean</th>\n",
       "      <th>stemmed</th>\n",
       "      <th>lemmatized</th>\n",
       "    </tr>\n",
       "  </thead>\n",
       "  <tbody>\n",
       "    <tr>\n",
       "      <th>0</th>\n",
       "      <td>Spotlight on APIDA Voices: Celebrating Heritag...</td>\n",
       "      <td>May is traditionally known as Asian American a...</td>\n",
       "      <td>may traditionally known asian american pacific...</td>\n",
       "      <td>may tradit known asian american pacif island a...</td>\n",
       "      <td>may traditionally known asian american pacific...</td>\n",
       "    </tr>\n",
       "    <tr>\n",
       "      <th>1</th>\n",
       "      <td>Women in tech: Panelist Spotlight – Magdalena ...</td>\n",
       "      <td>Women in tech: Panelist Spotlight – Magdalena ...</td>\n",
       "      <td>women tech panelist spotlight magdalena rahn c...</td>\n",
       "      <td>women tech panelist spotlight magdalena rahn c...</td>\n",
       "      <td>woman tech panelist spotlight magdalena rahn c...</td>\n",
       "    </tr>\n",
       "    <tr>\n",
       "      <th>2</th>\n",
       "      <td>Women in tech: Panelist Spotlight – Rachel Rob...</td>\n",
       "      <td>Women in tech: Panelist Spotlight – Rachel Rob...</td>\n",
       "      <td>women tech panelist spotlight rachel robbinsma...</td>\n",
       "      <td>women tech panelist spotlight rachel robbinsma...</td>\n",
       "      <td>woman tech panelist spotlight rachel robbinsma...</td>\n",
       "    </tr>\n",
       "    <tr>\n",
       "      <th>3</th>\n",
       "      <td>Women in Tech: Panelist Spotlight – Sarah Mellor</td>\n",
       "      <td>Women in tech: Panelist Spotlight – Sarah Mell...</td>\n",
       "      <td>women tech panelist spotlight sarah mellor cod...</td>\n",
       "      <td>women tech panelist spotlight sarah mellor cod...</td>\n",
       "      <td>woman tech panelist spotlight sarah mellor cod...</td>\n",
       "    </tr>\n",
       "    <tr>\n",
       "      <th>4</th>\n",
       "      <td>Women in Tech: Panelist Spotlight – Madeleine ...</td>\n",
       "      <td>Women in tech: Panelist Spotlight – Madeleine ...</td>\n",
       "      <td>women tech panelist spotlight madeleine capper...</td>\n",
       "      <td>women tech panelist spotlight madelein capper ...</td>\n",
       "      <td>woman tech panelist spotlight madeleine capper...</td>\n",
       "    </tr>\n",
       "    <tr>\n",
       "      <th>5</th>\n",
       "      <td>Black Excellence in Tech: Panelist Spotlight –...</td>\n",
       "      <td>Black excellence in tech: Panelist Spotlight –...</td>\n",
       "      <td>black excellence tech panelist spotlight wilma...</td>\n",
       "      <td>black excel tech panelist spotlight wilmari de...</td>\n",
       "      <td>black excellence tech panelist spotlight wilma...</td>\n",
       "    </tr>\n",
       "  </tbody>\n",
       "</table>\n",
       "</div>"
      ],
      "text/plain": [
       "                                               title  \\\n",
       "0  Spotlight on APIDA Voices: Celebrating Heritag...   \n",
       "1  Women in tech: Panelist Spotlight – Magdalena ...   \n",
       "2  Women in tech: Panelist Spotlight – Rachel Rob...   \n",
       "3   Women in Tech: Panelist Spotlight – Sarah Mellor   \n",
       "4  Women in Tech: Panelist Spotlight – Madeleine ...   \n",
       "5  Black Excellence in Tech: Panelist Spotlight –...   \n",
       "\n",
       "                                            original  \\\n",
       "0  May is traditionally known as Asian American a...   \n",
       "1  Women in tech: Panelist Spotlight – Magdalena ...   \n",
       "2  Women in tech: Panelist Spotlight – Rachel Rob...   \n",
       "3  Women in tech: Panelist Spotlight – Sarah Mell...   \n",
       "4  Women in tech: Panelist Spotlight – Madeleine ...   \n",
       "5  Black excellence in tech: Panelist Spotlight –...   \n",
       "\n",
       "                                               clean  \\\n",
       "0  may traditionally known asian american pacific...   \n",
       "1  women tech panelist spotlight magdalena rahn c...   \n",
       "2  women tech panelist spotlight rachel robbinsma...   \n",
       "3  women tech panelist spotlight sarah mellor cod...   \n",
       "4  women tech panelist spotlight madeleine capper...   \n",
       "5  black excellence tech panelist spotlight wilma...   \n",
       "\n",
       "                                             stemmed  \\\n",
       "0  may tradit known asian american pacif island a...   \n",
       "1  women tech panelist spotlight magdalena rahn c...   \n",
       "2  women tech panelist spotlight rachel robbinsma...   \n",
       "3  women tech panelist spotlight sarah mellor cod...   \n",
       "4  women tech panelist spotlight madelein capper ...   \n",
       "5  black excel tech panelist spotlight wilmari de...   \n",
       "\n",
       "                                          lemmatized  \n",
       "0  may traditionally known asian american pacific...  \n",
       "1  woman tech panelist spotlight magdalena rahn c...  \n",
       "2  woman tech panelist spotlight rachel robbinsma...  \n",
       "3  woman tech panelist spotlight sarah mellor cod...  \n",
       "4  woman tech panelist spotlight madeleine capper...  \n",
       "5  black excellence tech panelist spotlight wilma...  "
      ]
     },
     "execution_count": 86,
     "metadata": {},
     "output_type": "execute_result"
    }
   ],
   "source": [
    "string = codeup_df()\n",
    "string"
   ]
  },
  {
   "cell_type": "code",
   "execution_count": 87,
   "id": "893b1a08",
   "metadata": {},
   "outputs": [
    {
     "data": {
      "text/plain": [
       "2068"
      ]
     },
     "execution_count": 87,
     "metadata": {},
     "output_type": "execute_result"
    }
   ],
   "source": [
    "words = string.original.str.split()\n",
    "len(words.sum())"
   ]
  },
  {
   "cell_type": "code",
   "execution_count": 88,
   "id": "ebc0b5fe",
   "metadata": {},
   "outputs": [
    {
     "data": {
      "text/plain": [
       "1164"
      ]
     },
     "execution_count": 88,
     "metadata": {},
     "output_type": "execute_result"
    }
   ],
   "source": [
    "words = string.clean.str.split()\n",
    "len(words.sum())"
   ]
  },
  {
   "cell_type": "code",
   "execution_count": 89,
   "id": "0ce69f1c",
   "metadata": {},
   "outputs": [
    {
     "data": {
      "text/plain": [
       "1164"
      ]
     },
     "execution_count": 89,
     "metadata": {},
     "output_type": "execute_result"
    }
   ],
   "source": [
    "words = string.stemmed.str.split()\n",
    "len(words.sum())"
   ]
  },
  {
   "cell_type": "code",
   "execution_count": 90,
   "id": "a754b46f",
   "metadata": {},
   "outputs": [
    {
     "data": {
      "text/plain": [
       "1164"
      ]
     },
     "execution_count": 90,
     "metadata": {},
     "output_type": "execute_result"
    }
   ],
   "source": [
    "words = string.lemmatized.str.split()\n",
    "len(words.sum())"
   ]
  },
  {
   "cell_type": "markdown",
   "id": "da5e00dc",
   "metadata": {},
   "source": [
    "# 8. For each dataframe, produce the following columns:\n",
    "\n",
    "* title to hold the title\n",
    "* original to hold the original article/post content\n",
    "* clean to hold the normalized and tokenized original with the stopwords removed.\n",
    "* stemmed to hold the stemmed version of the cleaned data.\n",
    "* lemmatized to hold the lemmatized version of the cleaned data."
   ]
  },
  {
   "cell_type": "code",
   "execution_count": null,
   "id": "d360a110",
   "metadata": {},
   "outputs": [],
   "source": []
  },
  {
   "cell_type": "markdown",
   "id": "eb11e23e",
   "metadata": {},
   "source": [
    "# 9. Ask yourself:\n",
    "\n",
    "* If your corpus is 493KB, would you prefer to use stemmed or lemmatized text?\n",
    "#lemmatized text since it is a small file\n",
    "* If your corpus is 25MB, would you prefer to use stemmed or lemmatized text?\n",
    "#lemmatized text since it is still a relatively small file\n",
    "* If your corpus is 200TB of text and you're charged by the megabyte for your hosted computational resources, would you prefer to use stemmed or lemmatized text?\n",
    "#stemmed since it has greater optimization performance"
   ]
  },
  {
   "cell_type": "code",
   "execution_count": null,
   "id": "fd76c7f8",
   "metadata": {},
   "outputs": [],
   "source": []
  }
 ],
 "metadata": {
  "kernelspec": {
   "display_name": "Python 3 (ipykernel)",
   "language": "python",
   "name": "python3"
  },
  "language_info": {
   "codemirror_mode": {
    "name": "ipython",
    "version": 3
   },
   "file_extension": ".py",
   "mimetype": "text/x-python",
   "name": "python",
   "nbconvert_exporter": "python",
   "pygments_lexer": "ipython3",
   "version": "3.11.3"
  }
 },
 "nbformat": 4,
 "nbformat_minor": 5
}
